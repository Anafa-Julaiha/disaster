{
  "nbformat": 4,
  "nbformat_minor": 0,
  "metadata": {
    "colab": {
      "provenance": []
    },
    "kernelspec": {
      "name": "python3",
      "display_name": "Python 3"
    },
    "language_info": {
      "name": "python"
    }
  },
  "cells": [
    {
      "cell_type": "code",
      "source": [
        "!pip install speechbrain torchaudio transformers"
      ],
      "metadata": {
        "id": "sI-1aNFrefFC"
      },
      "execution_count": null,
      "outputs": []
    },
    {
      "cell_type": "code",
      "source": [
        "from google.colab import files\n",
        "import os\n",
        "\n",
        "# Upload the first voice sample\n",
        "uploaded = files.upload()\n",
        "\n",
        "# Check if the file is uploaded\n",
        "for filename in uploaded.keys():\n",
        "    print(f\"✅ Uploaded: {filename}\")\n",
        "\n",
        "# List files in Colab\n",
        "print(\"📂 Files in Colab:\", os.listdir())\n"
      ],
      "metadata": {
        "colab": {
          "base_uri": "https://localhost:8080/",
          "height": 107
        },
        "id": "71ZMa8IeefHy",
        "outputId": "984fa64b-8e5e-4814-b14b-e23857acaca0"
      },
      "execution_count": null,
      "outputs": [
        {
          "output_type": "display_data",
          "data": {
            "text/plain": [
              "<IPython.core.display.HTML object>"
            ],
            "text/html": [
              "\n",
              "     <input type=\"file\" id=\"files-76ccfc52-00de-4036-98f8-f01f7cb5376c\" name=\"files[]\" multiple disabled\n",
              "        style=\"border:none\" />\n",
              "     <output id=\"result-76ccfc52-00de-4036-98f8-f01f7cb5376c\">\n",
              "      Upload widget is only available when the cell has been executed in the\n",
              "      current browser session. Please rerun this cell to enable.\n",
              "      </output>\n",
              "      <script>// Copyright 2017 Google LLC\n",
              "//\n",
              "// Licensed under the Apache License, Version 2.0 (the \"License\");\n",
              "// you may not use this file except in compliance with the License.\n",
              "// You may obtain a copy of the License at\n",
              "//\n",
              "//      http://www.apache.org/licenses/LICENSE-2.0\n",
              "//\n",
              "// Unless required by applicable law or agreed to in writing, software\n",
              "// distributed under the License is distributed on an \"AS IS\" BASIS,\n",
              "// WITHOUT WARRANTIES OR CONDITIONS OF ANY KIND, either express or implied.\n",
              "// See the License for the specific language governing permissions and\n",
              "// limitations under the License.\n",
              "\n",
              "/**\n",
              " * @fileoverview Helpers for google.colab Python module.\n",
              " */\n",
              "(function(scope) {\n",
              "function span(text, styleAttributes = {}) {\n",
              "  const element = document.createElement('span');\n",
              "  element.textContent = text;\n",
              "  for (const key of Object.keys(styleAttributes)) {\n",
              "    element.style[key] = styleAttributes[key];\n",
              "  }\n",
              "  return element;\n",
              "}\n",
              "\n",
              "// Max number of bytes which will be uploaded at a time.\n",
              "const MAX_PAYLOAD_SIZE = 100 * 1024;\n",
              "\n",
              "function _uploadFiles(inputId, outputId) {\n",
              "  const steps = uploadFilesStep(inputId, outputId);\n",
              "  const outputElement = document.getElementById(outputId);\n",
              "  // Cache steps on the outputElement to make it available for the next call\n",
              "  // to uploadFilesContinue from Python.\n",
              "  outputElement.steps = steps;\n",
              "\n",
              "  return _uploadFilesContinue(outputId);\n",
              "}\n",
              "\n",
              "// This is roughly an async generator (not supported in the browser yet),\n",
              "// where there are multiple asynchronous steps and the Python side is going\n",
              "// to poll for completion of each step.\n",
              "// This uses a Promise to block the python side on completion of each step,\n",
              "// then passes the result of the previous step as the input to the next step.\n",
              "function _uploadFilesContinue(outputId) {\n",
              "  const outputElement = document.getElementById(outputId);\n",
              "  const steps = outputElement.steps;\n",
              "\n",
              "  const next = steps.next(outputElement.lastPromiseValue);\n",
              "  return Promise.resolve(next.value.promise).then((value) => {\n",
              "    // Cache the last promise value to make it available to the next\n",
              "    // step of the generator.\n",
              "    outputElement.lastPromiseValue = value;\n",
              "    return next.value.response;\n",
              "  });\n",
              "}\n",
              "\n",
              "/**\n",
              " * Generator function which is called between each async step of the upload\n",
              " * process.\n",
              " * @param {string} inputId Element ID of the input file picker element.\n",
              " * @param {string} outputId Element ID of the output display.\n",
              " * @return {!Iterable<!Object>} Iterable of next steps.\n",
              " */\n",
              "function* uploadFilesStep(inputId, outputId) {\n",
              "  const inputElement = document.getElementById(inputId);\n",
              "  inputElement.disabled = false;\n",
              "\n",
              "  const outputElement = document.getElementById(outputId);\n",
              "  outputElement.innerHTML = '';\n",
              "\n",
              "  const pickedPromise = new Promise((resolve) => {\n",
              "    inputElement.addEventListener('change', (e) => {\n",
              "      resolve(e.target.files);\n",
              "    });\n",
              "  });\n",
              "\n",
              "  const cancel = document.createElement('button');\n",
              "  inputElement.parentElement.appendChild(cancel);\n",
              "  cancel.textContent = 'Cancel upload';\n",
              "  const cancelPromise = new Promise((resolve) => {\n",
              "    cancel.onclick = () => {\n",
              "      resolve(null);\n",
              "    };\n",
              "  });\n",
              "\n",
              "  // Wait for the user to pick the files.\n",
              "  const files = yield {\n",
              "    promise: Promise.race([pickedPromise, cancelPromise]),\n",
              "    response: {\n",
              "      action: 'starting',\n",
              "    }\n",
              "  };\n",
              "\n",
              "  cancel.remove();\n",
              "\n",
              "  // Disable the input element since further picks are not allowed.\n",
              "  inputElement.disabled = true;\n",
              "\n",
              "  if (!files) {\n",
              "    return {\n",
              "      response: {\n",
              "        action: 'complete',\n",
              "      }\n",
              "    };\n",
              "  }\n",
              "\n",
              "  for (const file of files) {\n",
              "    const li = document.createElement('li');\n",
              "    li.append(span(file.name, {fontWeight: 'bold'}));\n",
              "    li.append(span(\n",
              "        `(${file.type || 'n/a'}) - ${file.size} bytes, ` +\n",
              "        `last modified: ${\n",
              "            file.lastModifiedDate ? file.lastModifiedDate.toLocaleDateString() :\n",
              "                                    'n/a'} - `));\n",
              "    const percent = span('0% done');\n",
              "    li.appendChild(percent);\n",
              "\n",
              "    outputElement.appendChild(li);\n",
              "\n",
              "    const fileDataPromise = new Promise((resolve) => {\n",
              "      const reader = new FileReader();\n",
              "      reader.onload = (e) => {\n",
              "        resolve(e.target.result);\n",
              "      };\n",
              "      reader.readAsArrayBuffer(file);\n",
              "    });\n",
              "    // Wait for the data to be ready.\n",
              "    let fileData = yield {\n",
              "      promise: fileDataPromise,\n",
              "      response: {\n",
              "        action: 'continue',\n",
              "      }\n",
              "    };\n",
              "\n",
              "    // Use a chunked sending to avoid message size limits. See b/62115660.\n",
              "    let position = 0;\n",
              "    do {\n",
              "      const length = Math.min(fileData.byteLength - position, MAX_PAYLOAD_SIZE);\n",
              "      const chunk = new Uint8Array(fileData, position, length);\n",
              "      position += length;\n",
              "\n",
              "      const base64 = btoa(String.fromCharCode.apply(null, chunk));\n",
              "      yield {\n",
              "        response: {\n",
              "          action: 'append',\n",
              "          file: file.name,\n",
              "          data: base64,\n",
              "        },\n",
              "      };\n",
              "\n",
              "      let percentDone = fileData.byteLength === 0 ?\n",
              "          100 :\n",
              "          Math.round((position / fileData.byteLength) * 100);\n",
              "      percent.textContent = `${percentDone}% done`;\n",
              "\n",
              "    } while (position < fileData.byteLength);\n",
              "  }\n",
              "\n",
              "  // All done.\n",
              "  yield {\n",
              "    response: {\n",
              "      action: 'complete',\n",
              "    }\n",
              "  };\n",
              "}\n",
              "\n",
              "scope.google = scope.google || {};\n",
              "scope.google.colab = scope.google.colab || {};\n",
              "scope.google.colab._files = {\n",
              "  _uploadFiles,\n",
              "  _uploadFilesContinue,\n",
              "};\n",
              "})(self);\n",
              "</script> "
            ]
          },
          "metadata": {}
        },
        {
          "output_type": "stream",
          "name": "stdout",
          "text": [
            "Saving Female.wav to Female (1).wav\n",
            "✅ Uploaded: Female (1).wav\n",
            "📂 Files in Colab: ['.config', 'Female.wav', 'reference_embedding.pth', 'Female (1).wav', 'spkrec_model', 'Male.wav', 'sample_data']\n"
          ]
        }
      ]
    },
    {
      "cell_type": "code",
      "source": [
        "import torchaudio\n",
        "import torch\n",
        "from speechbrain.pretrained import SpeakerRecognition\n",
        "\n",
        "# Load Pretrained Speaker Recognition Model\n",
        "spk_model = SpeakerRecognition.from_hparams(\n",
        "    source=\"speechbrain/spkrec-ecapa-voxceleb\",\n",
        "    savedir=\"spkrec_model\"\n",
        ")\n",
        "\n",
        "def extract_speaker_embedding(audio_file):\n",
        "    \"\"\"Extracts speaker-specific voice features\"\"\"\n",
        "    signal, fs = torchaudio.load(audio_file)\n",
        "\n",
        "    # Convert to 16kHz if needed\n",
        "    if fs != 16000:\n",
        "        transform = torchaudio.transforms.Resample(orig_freq=fs, new_freq=16000)\n",
        "        signal = transform(signal)\n",
        "\n",
        "    # Extract speaker embedding\n",
        "    embedding = spk_model.encode_batch(signal)\n",
        "    return embedding.squeeze(0)\n",
        "\n",
        "# Extract embeddings from the reference voice sample\n",
        "reference_embedding = extract_speaker_embedding(\"Female.wav\")\n",
        "\n",
        "# Save for later comparison\n",
        "torch.save(reference_embedding, \"reference_embedding.pth\")\n",
        "\n",
        "print(\"✅ Reference Voice Features Saved!\")\n"
      ],
      "metadata": {
        "colab": {
          "base_uri": "https://localhost:8080/"
        },
        "id": "_hzWw4hgefKy",
        "outputId": "42594aa8-dafd-4e65-fd85-0435fd55bd4e"
      },
      "execution_count": null,
      "outputs": [
        {
          "output_type": "stream",
          "name": "stdout",
          "text": [
            "✅ Reference Voice Features Saved!\n"
          ]
        }
      ]
    },
    {
      "cell_type": "code",
      "source": [
        "# Upload the second voice sample\n",
        "uploaded = files.upload()\n",
        "\n",
        "# Rename the uploaded file as \"test.wav\"\n",
        "for filename in uploaded.keys():\n",
        "    print(f\"✅ Uploaded: {filename}\")\n",
        "\n",
        "# Check if the file is uploaded\n",
        "print(\"📂 Files in Colab:\", os.listdir())\n"
      ],
      "metadata": {
        "colab": {
          "base_uri": "https://localhost:8080/",
          "height": 107
        },
        "id": "cn_7XLNDefNW",
        "outputId": "d4bea6ea-f4e3-4f37-d35b-be130930372f"
      },
      "execution_count": null,
      "outputs": [
        {
          "output_type": "display_data",
          "data": {
            "text/plain": [
              "<IPython.core.display.HTML object>"
            ],
            "text/html": [
              "\n",
              "     <input type=\"file\" id=\"files-6d8c774c-e7bb-4a09-a878-d0e346a543b7\" name=\"files[]\" multiple disabled\n",
              "        style=\"border:none\" />\n",
              "     <output id=\"result-6d8c774c-e7bb-4a09-a878-d0e346a543b7\">\n",
              "      Upload widget is only available when the cell has been executed in the\n",
              "      current browser session. Please rerun this cell to enable.\n",
              "      </output>\n",
              "      <script>// Copyright 2017 Google LLC\n",
              "//\n",
              "// Licensed under the Apache License, Version 2.0 (the \"License\");\n",
              "// you may not use this file except in compliance with the License.\n",
              "// You may obtain a copy of the License at\n",
              "//\n",
              "//      http://www.apache.org/licenses/LICENSE-2.0\n",
              "//\n",
              "// Unless required by applicable law or agreed to in writing, software\n",
              "// distributed under the License is distributed on an \"AS IS\" BASIS,\n",
              "// WITHOUT WARRANTIES OR CONDITIONS OF ANY KIND, either express or implied.\n",
              "// See the License for the specific language governing permissions and\n",
              "// limitations under the License.\n",
              "\n",
              "/**\n",
              " * @fileoverview Helpers for google.colab Python module.\n",
              " */\n",
              "(function(scope) {\n",
              "function span(text, styleAttributes = {}) {\n",
              "  const element = document.createElement('span');\n",
              "  element.textContent = text;\n",
              "  for (const key of Object.keys(styleAttributes)) {\n",
              "    element.style[key] = styleAttributes[key];\n",
              "  }\n",
              "  return element;\n",
              "}\n",
              "\n",
              "// Max number of bytes which will be uploaded at a time.\n",
              "const MAX_PAYLOAD_SIZE = 100 * 1024;\n",
              "\n",
              "function _uploadFiles(inputId, outputId) {\n",
              "  const steps = uploadFilesStep(inputId, outputId);\n",
              "  const outputElement = document.getElementById(outputId);\n",
              "  // Cache steps on the outputElement to make it available for the next call\n",
              "  // to uploadFilesContinue from Python.\n",
              "  outputElement.steps = steps;\n",
              "\n",
              "  return _uploadFilesContinue(outputId);\n",
              "}\n",
              "\n",
              "// This is roughly an async generator (not supported in the browser yet),\n",
              "// where there are multiple asynchronous steps and the Python side is going\n",
              "// to poll for completion of each step.\n",
              "// This uses a Promise to block the python side on completion of each step,\n",
              "// then passes the result of the previous step as the input to the next step.\n",
              "function _uploadFilesContinue(outputId) {\n",
              "  const outputElement = document.getElementById(outputId);\n",
              "  const steps = outputElement.steps;\n",
              "\n",
              "  const next = steps.next(outputElement.lastPromiseValue);\n",
              "  return Promise.resolve(next.value.promise).then((value) => {\n",
              "    // Cache the last promise value to make it available to the next\n",
              "    // step of the generator.\n",
              "    outputElement.lastPromiseValue = value;\n",
              "    return next.value.response;\n",
              "  });\n",
              "}\n",
              "\n",
              "/**\n",
              " * Generator function which is called between each async step of the upload\n",
              " * process.\n",
              " * @param {string} inputId Element ID of the input file picker element.\n",
              " * @param {string} outputId Element ID of the output display.\n",
              " * @return {!Iterable<!Object>} Iterable of next steps.\n",
              " */\n",
              "function* uploadFilesStep(inputId, outputId) {\n",
              "  const inputElement = document.getElementById(inputId);\n",
              "  inputElement.disabled = false;\n",
              "\n",
              "  const outputElement = document.getElementById(outputId);\n",
              "  outputElement.innerHTML = '';\n",
              "\n",
              "  const pickedPromise = new Promise((resolve) => {\n",
              "    inputElement.addEventListener('change', (e) => {\n",
              "      resolve(e.target.files);\n",
              "    });\n",
              "  });\n",
              "\n",
              "  const cancel = document.createElement('button');\n",
              "  inputElement.parentElement.appendChild(cancel);\n",
              "  cancel.textContent = 'Cancel upload';\n",
              "  const cancelPromise = new Promise((resolve) => {\n",
              "    cancel.onclick = () => {\n",
              "      resolve(null);\n",
              "    };\n",
              "  });\n",
              "\n",
              "  // Wait for the user to pick the files.\n",
              "  const files = yield {\n",
              "    promise: Promise.race([pickedPromise, cancelPromise]),\n",
              "    response: {\n",
              "      action: 'starting',\n",
              "    }\n",
              "  };\n",
              "\n",
              "  cancel.remove();\n",
              "\n",
              "  // Disable the input element since further picks are not allowed.\n",
              "  inputElement.disabled = true;\n",
              "\n",
              "  if (!files) {\n",
              "    return {\n",
              "      response: {\n",
              "        action: 'complete',\n",
              "      }\n",
              "    };\n",
              "  }\n",
              "\n",
              "  for (const file of files) {\n",
              "    const li = document.createElement('li');\n",
              "    li.append(span(file.name, {fontWeight: 'bold'}));\n",
              "    li.append(span(\n",
              "        `(${file.type || 'n/a'}) - ${file.size} bytes, ` +\n",
              "        `last modified: ${\n",
              "            file.lastModifiedDate ? file.lastModifiedDate.toLocaleDateString() :\n",
              "                                    'n/a'} - `));\n",
              "    const percent = span('0% done');\n",
              "    li.appendChild(percent);\n",
              "\n",
              "    outputElement.appendChild(li);\n",
              "\n",
              "    const fileDataPromise = new Promise((resolve) => {\n",
              "      const reader = new FileReader();\n",
              "      reader.onload = (e) => {\n",
              "        resolve(e.target.result);\n",
              "      };\n",
              "      reader.readAsArrayBuffer(file);\n",
              "    });\n",
              "    // Wait for the data to be ready.\n",
              "    let fileData = yield {\n",
              "      promise: fileDataPromise,\n",
              "      response: {\n",
              "        action: 'continue',\n",
              "      }\n",
              "    };\n",
              "\n",
              "    // Use a chunked sending to avoid message size limits. See b/62115660.\n",
              "    let position = 0;\n",
              "    do {\n",
              "      const length = Math.min(fileData.byteLength - position, MAX_PAYLOAD_SIZE);\n",
              "      const chunk = new Uint8Array(fileData, position, length);\n",
              "      position += length;\n",
              "\n",
              "      const base64 = btoa(String.fromCharCode.apply(null, chunk));\n",
              "      yield {\n",
              "        response: {\n",
              "          action: 'append',\n",
              "          file: file.name,\n",
              "          data: base64,\n",
              "        },\n",
              "      };\n",
              "\n",
              "      let percentDone = fileData.byteLength === 0 ?\n",
              "          100 :\n",
              "          Math.round((position / fileData.byteLength) * 100);\n",
              "      percent.textContent = `${percentDone}% done`;\n",
              "\n",
              "    } while (position < fileData.byteLength);\n",
              "  }\n",
              "\n",
              "  // All done.\n",
              "  yield {\n",
              "    response: {\n",
              "      action: 'complete',\n",
              "    }\n",
              "  };\n",
              "}\n",
              "\n",
              "scope.google = scope.google || {};\n",
              "scope.google.colab = scope.google.colab || {};\n",
              "scope.google.colab._files = {\n",
              "  _uploadFiles,\n",
              "  _uploadFilesContinue,\n",
              "};\n",
              "})(self);\n",
              "</script> "
            ]
          },
          "metadata": {}
        },
        {
          "output_type": "stream",
          "name": "stdout",
          "text": [
            "Saving Male.wav to Male (1).wav\n",
            "✅ Uploaded: Male (1).wav\n",
            "📂 Files in Colab: ['.config', 'Female.wav', 'reference_embedding.pth', 'Female (1).wav', 'spkrec_model', 'Male (1).wav', 'Male.wav', 'sample_data']\n"
          ]
        }
      ]
    },
    {
      "cell_type": "code",
      "source": [
        "# Extract features from the test voice sample\n",
        "test_embedding = extract_speaker_embedding(\"Male.wav\")\n",
        "\n",
        "# Load stored reference embedding\n",
        "reference_embedding = torch.load(\"reference_embedding.pth\")\n",
        "\n",
        "# Compute cosine similarity\n",
        "similarity = torch.nn.functional.cosine_similarity(test_embedding, reference_embedding, dim=-1)\n",
        "\n",
        "# Get a single similarity score (average)\n",
        "similarity_score = similarity.mean().item()\n",
        "\n",
        "# Check if the voice matches\n",
        "if similarity_score > 0.5:  # Adjust threshold if needed\n",
        "    print(f\"✅ Voice Matched! Similarity Score: {similarity_score:.2f} - Unlocking System!\")\n",
        "else:\n",
        "    print(f\"❌ Voice Not Recognized! Similarity Score: {similarity_score:.2f} - Access Denied!\")\n"
      ],
      "metadata": {
        "colab": {
          "base_uri": "https://localhost:8080/"
        },
        "id": "BGlR_zChefSi",
        "outputId": "17fe553f-6237-4e25-bb0f-84a07d049fd7"
      },
      "execution_count": null,
      "outputs": [
        {
          "output_type": "stream",
          "name": "stdout",
          "text": [
            "❌ Voice Not Recognized! Similarity Score: 0.12 - Access Denied!\n"
          ]
        },
        {
          "output_type": "stream",
          "name": "stderr",
          "text": [
            "<ipython-input-11-89e8e77d5f11>:5: FutureWarning: You are using `torch.load` with `weights_only=False` (the current default value), which uses the default pickle module implicitly. It is possible to construct malicious pickle data which will execute arbitrary code during unpickling (See https://github.com/pytorch/pytorch/blob/main/SECURITY.md#untrusted-models for more details). In a future release, the default value for `weights_only` will be flipped to `True`. This limits the functions that could be executed during unpickling. Arbitrary objects will no longer be allowed to be loaded via this mode unless they are explicitly allowlisted by the user via `torch.serialization.add_safe_globals`. We recommend you start setting `weights_only=True` for any use case where you don't have full control of the loaded file. Please open an issue on GitHub for any issues related to this experimental feature.\n",
            "  reference_embedding = torch.load(\"reference_embedding.pth\")\n"
          ]
        }
      ]
    },
    {
      "cell_type": "markdown",
      "source": [
        "## Tensorflow"
      ],
      "metadata": {
        "id": "0O1OagpxnsAM"
      }
    },
    {
      "cell_type": "code",
      "source": [
        "!pip install tensorflow tensorflow_io librosa numpy\n"
      ],
      "metadata": {
        "id": "bVXauSBeqWiV"
      },
      "execution_count": null,
      "outputs": []
    },
    {
      "cell_type": "code",
      "source": [
        "!pip install tensorflow tensorflow-io-nightly librosa numpy\n"
      ],
      "metadata": {
        "id": "ayplcDNUqz47"
      },
      "execution_count": null,
      "outputs": []
    },
    {
      "cell_type": "code",
      "source": [
        "!pip install speechbrain torchaudio librosa numpy tensorflow\n",
        "\n"
      ],
      "metadata": {
        "id": "d5L7y8oqsUQp"
      },
      "execution_count": null,
      "outputs": []
    },
    {
      "cell_type": "code",
      "source": [
        "import torchaudio\n",
        "import tensorflow as tf\n",
        "from speechbrain.pretrained import SpeakerRecognition\n",
        "\n",
        "# Load SpeechBrain Pretrained Speaker Recognition Model\n",
        "spk_model = SpeakerRecognition.from_hparams(\n",
        "    source=\"speechbrain/spkrec-ecapa-voxceleb\",\n",
        "    savedir=\"spkrec_model\"\n",
        ")\n",
        "\n",
        "def extract_speaker_embedding(audio_file):\n",
        "    \"\"\"Extracts speaker-specific voice features using SpeechBrain\"\"\"\n",
        "    signal, fs = torchaudio.load(audio_file)\n",
        "\n",
        "    # Convert to 16kHz if needed\n",
        "    if fs != 16000:\n",
        "        transform = torchaudio.transforms.Resample(orig_freq=fs, new_freq=16000)\n",
        "        signal = transform(signal)\n",
        "\n",
        "    # Extract speaker embedding\n",
        "    embedding = spk_model.encode_batch(signal)\n",
        "\n",
        "    # Convert to NumPy for TensorFlow compatibility\n",
        "    return embedding.squeeze(0).detach().numpy()\n",
        "\n"
      ],
      "metadata": {
        "id": "CKqJCReJsF7q"
      },
      "execution_count": null,
      "outputs": []
    },
    {
      "cell_type": "code",
      "source": [
        "\n",
        "\n",
        "# Extract speaker embeddings\n",
        "reference_embedding = extract_speaker_embedding(\"Female.wav\")\n",
        "test_embedding = extract_speaker_embedding(\"Male.wav\")\n",
        "\n",
        "# Convert to TensorFlow tensors\n",
        "reference_tensor = tf.convert_to_tensor(reference_embedding, dtype=tf.float32)\n",
        "test_tensor = tf.convert_to_tensor(test_embedding, dtype=tf.float32)\n",
        "\n",
        "# Ensure embeddings are normalized\n",
        "reference_tensor = tf.linalg.l2_normalize(reference_tensor, axis=-1)\n",
        "test_tensor = tf.linalg.l2_normalize(test_tensor, axis=-1)\n",
        "\n",
        "# Compute absolute cosine similarity (higher is better)\n",
        "cosine_similarity = tf.keras.losses.cosine_similarity(reference_tensor, test_tensor, axis=-1)\n",
        "similarity_score = -cosine_similarity.numpy()  # Convert to positive scale\n",
        "\n",
        "# Extract a single similarity score\n",
        "similarity_score = similarity_score.mean()  # Take the average value\n",
        "\n",
        "# Decision based on a proper threshold\n",
        "threshold = 0.6  # Lower = more strict, Higher = more relaxed\n",
        "if similarity_score > threshold:\n",
        "    print(f\"✅ Voice Matched! Similarity Score: {similarity_score:.2f} - Unlocking System!\")\n",
        "else:\n",
        "    print(f\"❌ Voice Not Recognized! Similarity Score: {similarity_score:.2f} - Access Denied!\")\n",
        "\n"
      ],
      "metadata": {
        "colab": {
          "base_uri": "https://localhost:8080/"
        },
        "id": "o8iWSujtqhFX",
        "outputId": "af227604-94c3-4276-d2b2-a6a87c1d88cf"
      },
      "execution_count": null,
      "outputs": [
        {
          "output_type": "stream",
          "name": "stdout",
          "text": [
            "❌ Voice Not Recognized! Similarity Score: 0.12 - Access Denied!\n"
          ]
        }
      ]
    },
    {
      "cell_type": "markdown",
      "source": [
        "## Speech Recognition"
      ],
      "metadata": {
        "id": "owW08oc4lTBJ"
      }
    },
    {
      "cell_type": "code",
      "source": [
        "import speech_recognition as sr\n",
        "\n",
        "def recognize_speech(audio_file):\n",
        "    \"\"\"Converts speech to text using Google Speech Recognition\"\"\"\n",
        "    recognizer = sr.Recognizer()\n",
        "\n",
        "    # Load the audio file\n",
        "    with sr.AudioFile(audio_file) as source:\n",
        "        print(\"🔍 Processing audio...\")\n",
        "        audio_data = recognizer.record(source)\n",
        "\n",
        "    # Convert speech to text\n",
        "    try:\n",
        "        text = recognizer.recognize_google(audio_data)\n",
        "        print(f\"✅ Speech Recognized: {text}\")\n",
        "        return text\n",
        "    except sr.UnknownValueError:\n",
        "        print(\"❌ Could not understand the audio\")\n",
        "        return None\n",
        "    except sr.RequestError:\n",
        "        print(\"❌ Could not request results from Google API\")\n",
        "        return None\n"
      ],
      "metadata": {
        "id": "0LdeNDruk7P7"
      },
      "execution_count": 23,
      "outputs": []
    },
    {
      "cell_type": "code",
      "source": [
        "# Step 1: Recognize Speech from \"Female.wav\"\n",
        "recognized_text_female = recognize_speech(\"Female.wav\")\n",
        "\n",
        "# Step 2: Recognize Speech from \"Male.wav\"\n",
        "recognized_text_male = recognize_speech(\"Male.wav\")\n",
        "\n",
        "# Step 3: Compare the Transcriptions\n",
        "if recognized_text_female and recognized_text_male:\n",
        "    if recognized_text_female == recognized_text_male:\n",
        "        print(\"✅ The same speech was detected in both files!\")\n",
        "    else:\n",
        "        print(\"❌ The speech content is different in both files.\")\n"
      ],
      "metadata": {
        "colab": {
          "base_uri": "https://localhost:8080/"
        },
        "id": "60m1xExClCgR",
        "outputId": "163b5f96-edf6-44b3-9666-6d5ca2f98a98"
      },
      "execution_count": 26,
      "outputs": [
        {
          "output_type": "stream",
          "name": "stdout",
          "text": [
            "🔍 Processing audio...\n",
            "✅ Speech Recognized: thank you\n",
            "🔍 Processing audio...\n",
            "✅ Speech Recognized: turn nine eight seven six five four three two one zero\n",
            "❌ The speech content is different in both files.\n"
          ]
        }
      ]
    }
  ]
}